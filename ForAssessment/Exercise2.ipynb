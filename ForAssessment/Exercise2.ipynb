{
 "cells": [
  {
   "cell_type": "markdown",
   "metadata": {},
   "source": [
    "## Exercise 2\n",
    "\n",
    "In the `FiniteDifferences` notebook we considered the differential equation controlling heat flow which relates the rate of change in $T$, the temperature, to spatial gradients in the same quantity. \n",
    "\n",
    "$$\n",
    "\\frac{\\partial T}{\\partial t} = \\kappa \\frac{\\partial^2 T}{\\partial x^2} + H\n",
    "$$\n",
    "       \n",
    "       \n",
    "We ignored $H$ and solved a number of examples. \n",
    "\n",
    "At the end of the notebook we looked at the time-varying solution of the heat equation using an explicit finite difference approximation. Given all the trouble we went to setting this up, don't you think it would be a good idea to see if we can iterate until we reach the steady-state solution?\n",
    "\n",
    "This is not very complicated to do so I would like you to try it __for the case where $\\kappa$ is constant__.\n",
    "\n",
    "You can copy and paste the cells from the `FiniteDifferences` here to get started."
   ]
  },
  {
   "cell_type": "markdown",
   "metadata": {
    "collapsed": true
   },
   "source": [
    "## Hints\n",
    "\n",
    "You have most of the code you need. The `np.gradient` function will still be useful ... in fact you really only have to put everything in a `for` loop and enforce the boundary conditions.\n"
   ]
  },
  {
   "cell_type": "code",
   "execution_count": 1,
   "metadata": {},
   "outputs": [],
   "source": [
    "# load the appropriate python modules\n",
    "import numpy as np\n",
    "import matplotlib.pyplot as plt\n",
    "%matplotlib inline"
   ]
  },
  {
   "cell_type": "code",
   "execution_count": 219,
   "metadata": {},
   "outputs": [],
   "source": [
    "steps = 50\n",
    "#boundaries\n",
    "dy = 1.\n",
    "dx = 1.\n",
    "\n",
    "#setting size of array filled with zero below\n",
    "ny = 27\n",
    "nx = 25\n",
    "\n",
    "T = np.zeros((ny,nx))\n",
    "\n",
    "#empty list\n",
    "T_store = []\n",
    "\n",
    "# Initial conditions\n",
    "#slicing and dicing with array\n",
    "#initial temp distribution\n",
    "# we want to set it at the top wall and the bottom wall\n",
    "T[0,:] = 300.\n",
    "T[-1,:] = 800.\n",
    "k = 1.0\n",
    "\n",
    "# 1 timestep\n",
    "# np gradient operation\n",
    "time = 100.0\n",
    "\n",
    "#loop to replace time value at a step\n",
    "for i in range(1, steps):\n",
    "    T[0,:] = 300.\n",
    "    T[-1,:] = 800.\n",
    "    #first derivative\n",
    "    gradTx, gradTy = np.gradient(T, dx, dy)\n",
    "   #fluxes relate to the change in a particular quantity - in this case K - spatially\n",
    "    flux_x = k*gradTx\n",
    "    flux_y = k*gradTy\n",
    "    #second derivative\n",
    "    gradTxx, gradTxy = np.gradient(flux_x, dx, dy)\n",
    "    gradTyx, gradTyy = np.gradient(flux_y, dx, dy)\n",
    "\n",
    "    #adding these together - our second derivatives\n",
    "    divT = gradTxx + gradTyy\n",
    "    dt = (dx*dy)/k\n",
    "    #calculating one step\n",
    "    time += dt\n",
    "\n",
    "    #this stores the new T being created within this for loop to the empty array\n",
    "    T_store.append(T)\n",
    "    #Changing of T\n",
    "    T = T + dt*divT\n",
    "    "
   ]
  },
  {
   "cell_type": "code",
   "execution_count": 220,
   "metadata": {},
   "outputs": [
    {
     "name": "stdout",
     "output_type": "stream",
     "text": [
      "Heatmap of Temperature Gradient of Given Time Variance\n"
     ]
    },
    {
     "data": {
      "image/png": "[encoded data removed]",
      "text/plain": [
       "<Figure size 720x288 with 1 Axes>"
      ]
     },
     "metadata": {
      "needs_background": "light"
     },
     "output_type": "display_data"
    }
   ],
   "source": [
    "#Can see it is becoming unstable\n",
    "fig, (ax1) = plt.subplots(1, sharey=True, figsize=(10,4))\n",
    "ax1.imshow(T)\n",
    "print('Heatmap of Temperature Gradient of Given Time Variance')\n",
    "pass"
   ]
  },
  {
   "cell_type": "code",
   "execution_count": 221,
   "metadata": {},
   "outputs": [],
   "source": [
    "#Makes T_store into an array\n",
    "T_store = np.array(T_store)"
   ]
  },
  {
   "cell_type": "code",
   "execution_count": 222,
   "metadata": {},
   "outputs": [
    {
     "data": {
      "text/plain": [
       "(49, 27, 25)"
      ]
     },
     "execution_count": 222,
     "metadata": {},
     "output_type": "execute_result"
    }
   ],
   "source": [
    "#checking shape, makes sense, in 100 steps there is 99 values (end not included), then has the dimensions\n",
    "#we set above (27 rows and 25 columns)\n",
    "T_store.shape"
   ]
  },
  {
   "cell_type": "code",
   "execution_count": 223,
   "metadata": {},
   "outputs": [],
   "source": [
    "#Here setting T_diff as T_store from second T (because 0 would be 0) to last element of T, for all rows and \n",
    "#all columns MINUS T_store from first T to last entry of T, for all rows and all columns\n",
    "#this substracts one step aheas\n",
    "T_diff = T_store[1:,:,:1] - T_store[0:-1,:,:]"
   ]
  },
  {
   "cell_type": "code",
   "execution_count": 224,
   "metadata": {},
   "outputs": [
    {
     "name": "stdout",
     "output_type": "stream",
     "text": [
      "(48, 27, 25)\n"
     ]
    }
   ],
   "source": [
    "#checking shape of the data\n",
    "print(T_diff.shape)"
   ]
  },
  {
   "cell_type": "code",
   "execution_count": 225,
   "metadata": {},
   "outputs": [],
   "source": [
    "#this takes 1 value per timestep, T_diff_red is\n",
    "#calculating the maximum difference between each time step\n",
    "T_diff_red = np.abs(T_diff).max(axis=(1,2))"
   ]
  },
  {
   "cell_type": "code",
   "execution_count": 226,
   "metadata": {},
   "outputs": [
    {
     "name": "stdout",
     "output_type": "stream",
     "text": [
      "(48,)\n"
     ]
    }
   ],
   "source": [
    "#shape has been changed, not same image data\n",
    "print(T_diff_red.shape)"
   ]
  },
  {
   "cell_type": "code",
   "execution_count": 227,
   "metadata": {},
   "outputs": [
    {
     "data": {
      "image/png": "[encoded data removed]",
      "text/plain": [
       "<Figure size 432x288 with 1 Axes>"
      ]
     },
     "metadata": {
      "needs_background": "light"
     },
     "output_type": "display_data"
    }
   ],
   "source": [
    "#plotting T_diff_red\n",
    "#converges as it approaches 0\n",
    "plt.plot(T_diff_red)\n",
    "pass"
   ]
  },
  {
   "cell_type": "markdown",
   "metadata": {},
   "source": [
    "Can see that it approaches convergence pretty quickly, even after almost one time step (saw this by setting timesteps to 10 - below can see what the heat map below shows that setting dt close to 2 shows that you can start to see the solution break down, even though it starts a bit before 1"
   ]
  },
  {
   "cell_type": "markdown",
   "metadata": {},
   "source": [
    "We know that there is an instability in the code which occurs if the timestep is too large. Currently the timestep size is related to the size of the mesh and the diffusivity:\n",
    "\n",
    "$$\n",
    "\\Delta t = \\frac{\\Delta x \\Delta y}{\\kappa}\n",
    "$$\n",
    "\n",
    "\n",
    "What happens if you overwrite the timestep size, `dt`? What is the point where the solution begins to breakdown and you see wild oscillations? Is it pretty close to the above relation?"
   ]
  },
  {
   "cell_type": "code",
   "execution_count": 217,
   "metadata": {},
   "outputs": [],
   "source": [
    "steps = 1000\n",
    "dy = 1.\n",
    "dx = 1.\n",
    "ny = 27\n",
    "nx = 25\n",
    "\n",
    "\n",
    "T = np.zeros((ny,nx))\n",
    "# Initial conditions\n",
    "T[0,:] = 300.\n",
    "T[-1,:] = 800.\n",
    "\n",
    "k = 1.0\n",
    "time = 0.0\n",
    "\n",
    "for i in range(1, steps):\n",
    "    T[0,:] = 300.\n",
    "    T[-1,:] = 800.\n",
    "    \n",
    "    gradTx, gradTy = np.gradient(T, dx, dy)\n",
    "    flux_x = k*gradTx\n",
    "    flux_y = k*gradTy\n",
    "    \n",
    "    gradTxx, gradTxy = np.gradient(flux_x, dx, dy)\n",
    "    gradTyx, gradTyy = np.gradient(flux_y, dx, dy)\n",
    "\n",
    "    divT = gradTxx + gradTyy\n",
    "    dt = 1.99\n",
    "    #calculating one step\n",
    "    \n",
    "    T = T + dt * divT\n"
   ]
  },
  {
   "cell_type": "code",
   "execution_count": 218,
   "metadata": {},
   "outputs": [
    {
     "data": {
      "image/png": "[encoded data removed]",
      "text/plain": [
       "<Figure size 720x288 with 1 Axes>"
      ]
     },
     "metadata": {
      "needs_background": "light"
     },
     "output_type": "display_data"
    }
   ],
   "source": [
    "fig, (ax1) = plt.subplots(1, sharey=True, figsize=(10,4))\n",
    "ax1.imshow(T)\n",
    "pass"
   ]
  },
  {
   "cell_type": "markdown",
   "metadata": {},
   "source": [
    "Playing around with the dt value, somewhere between 1.99 and 1.999 the solution begins to breakdown, wild oscilations starting for sure at dt=2. This is what is shown in the plot above of T_diff_red when timestep is set to 10."
   ]
  }
 ],
 "metadata": {
  "kernelspec": {
   "display_name": "Python 3",
   "language": "python",
   "name": "python3"
  },
  "language_info": {
   "codemirror_mode": {
    "name": "ipython",
    "version": 3
   },
   "file_extension": ".py",
   "mimetype": "text/x-python",
   "name": "python",
   "nbconvert_exporter": "python",
   "pygments_lexer": "ipython3",
   "version": "3.8.5"
  }
 },
 "nbformat": 4,
 "nbformat_minor": 1
}
